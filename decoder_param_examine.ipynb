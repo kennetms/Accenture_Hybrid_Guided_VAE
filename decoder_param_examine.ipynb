{
 "cells": [
  {
   "cell_type": "code",
   "execution_count": 4,
   "id": "f1786084-aa75-49e2-99e8-b02ce30934ab",
   "metadata": {},
   "outputs": [],
   "source": [
    "import torch\n",
    "import torch.nn as nn"
   ]
  },
  {
   "cell_type": "code",
   "execution_count": 2,
   "id": "1a68ec09-f075-47cf-ada1-2238ff1f1f1c",
   "metadata": {},
   "outputs": [],
   "source": [
    "# for getting output dimensions of convtranspose2d\n",
    "# H_out=(H_in−1)×stride[0]−2×padding[0]+dilation[0]×(kernel_size[0]−1)+output_padding[0]+1\n",
    "# W_out=(W_in−1)×stride[1]−2×padding[1]+dilation[1]×(kernel_size[1]−1)+output_padding[1]+1\n",
    " \n",
    "# input parameters of convtranspose2d\n",
    "# in_channels, out_channels, kernel_size, stride=1, padding=0, output_padding=0, groups=1, bias=True, dilation=1, padding_mode='zeros', device=None, dtype=None\n",
    "\n",
    "self.decoder = nn.Sequential(\n",
    "            nn.Linear(self.dimz, out_features),\n",
    "            Reshape(-1,out_features,1,1),\n",
    "            nn.ConvTranspose2d(out_features, ngf * 8, 8, 2, 0, bias=False),\n",
    "            nn.ReLU(True),\n",
    "            nn.ConvTranspose2d(ngf * 8, ngf * 4, 2, 2, 0, bias=False),\n",
    "            nn.ReLU(True),\n",
    "            nn.ConvTranspose2d(ngf * 4, ngf * 2, 2, 2, 0, bias=False),\n",
    "            nn.ReLU(True),\n",
    "            nn.ConvTranspose2d(ngf * 2,     2, 2, 2, 0, bias=False),\n",
    "            nn.ReLU())"
   ]
  },
  {
   "cell_type": "code",
   "execution_count": 4,
   "id": "6287115c-7bc3-411e-94a6-27d8540ddf0f",
   "metadata": {},
   "outputs": [
    {
     "data": {
      "text/plain": [
       "64"
      ]
     },
     "execution_count": 4,
     "metadata": {},
     "output_type": "execute_result"
    }
   ],
   "source": [
    "32*2"
   ]
  },
  {
   "cell_type": "code",
   "execution_count": 5,
   "id": "64302892-6670-4f92-b368-47bf155a491b",
   "metadata": {},
   "outputs": [],
   "source": [
    "class Reshape(nn.Module):\n",
    "    def __init__(self, *args):\n",
    "        super(Reshape, self).__init__()\n",
    "        self.shape = args\n",
    "\n",
    "    def forward(self, x):\n",
    "        return x.view(self.shape)"
   ]
  },
  {
   "cell_type": "code",
   "execution_count": 7,
   "id": "7e026bb0-caa4-4f3f-8434-7b7e01bf64aa",
   "metadata": {},
   "outputs": [],
   "source": [
    "dimz = 100\n",
    "out_features = 128 #256\n",
    "ngf = 16\n"
   ]
  },
  {
   "cell_type": "code",
   "execution_count": 1,
   "id": "f299e737-7d14-4db4-b78b-b0edee76383a",
   "metadata": {},
   "outputs": [],
   "source": [
    "H_out=(1-1)*2-2*0+1*(8-1)+0+1\n",
    "W_out=(1-1)*1-2*0+1*(1-1)+0+1"
   ]
  },
  {
   "cell_type": "code",
   "execution_count": 2,
   "id": "53e95cab-c304-497e-ac7e-1dc489565979",
   "metadata": {},
   "outputs": [
    {
     "name": "stdout",
     "output_type": "stream",
     "text": [
      "8\n",
      "1\n"
     ]
    }
   ],
   "source": [
    "print(H_out)\n",
    "print(W_out)"
   ]
  },
  {
   "cell_type": "code",
   "execution_count": 31,
   "id": "2aff0aec-470e-4168-9150-939045ec3b7a",
   "metadata": {},
   "outputs": [],
   "source": [
    "#H_out=(H_in-1)*stride[0]-2*padding[0]+dilation[0]*(kernel_size[0]-1)+output_padding[0]+1\n",
    "#W_out=(W_in-1)*stride[1]-2*padding[1]+dilation[1]*(kernel_size[1]-1)+output_padding[1]+1"
   ]
  },
  {
   "cell_type": "code",
   "execution_count": 12,
   "id": "61254651-1af2-4f81-92bc-541b59e415b5",
   "metadata": {},
   "outputs": [
    {
     "name": "stdout",
     "output_type": "stream",
     "text": [
      "16\n",
      "16\n"
     ]
    }
   ],
   "source": [
    "H_out=(8-1)*2-2*0+1*(2-1)+0+1\n",
    "W_out=(8-1)*2-2*0+1*(2-1)+0+1\n",
    "print(H_out)\n",
    "print(W_out)"
   ]
  },
  {
   "cell_type": "code",
   "execution_count": 13,
   "id": "2270b4c5-98f7-47d5-8827-21ede5feeea0",
   "metadata": {},
   "outputs": [
    {
     "name": "stdout",
     "output_type": "stream",
     "text": [
      "32\n",
      "32\n"
     ]
    }
   ],
   "source": [
    "H_out=(16-1)*2-2*0+1*(2-1)+0+1\n",
    "W_out=(16-1)*2-2*0+1*(2-1)+0+1\n",
    "print(H_out)\n",
    "print(W_out)"
   ]
  },
  {
   "cell_type": "code",
   "execution_count": 14,
   "id": "8ac065b4-b542-4d1d-bfeb-98eb89698a9c",
   "metadata": {},
   "outputs": [
    {
     "name": "stdout",
     "output_type": "stream",
     "text": [
      "64\n",
      "64\n"
     ]
    }
   ],
   "source": [
    "H_out=(32-1)*2-2*0+1*(2-1)+0+1\n",
    "W_out=(32-1)*2-2*0+1*(2-1)+0+1\n",
    "print(H_out)\n",
    "print(W_out)"
   ]
  },
  {
   "cell_type": "code",
   "execution_count": 22,
   "id": "ea4e66df-0bfb-48cc-a9a4-09cba7f54fa2",
   "metadata": {},
   "outputs": [],
   "source": [
    "layer_1 = nn.Linear(dimz, out_features)\n",
    "layer_2  =  Reshape(-1,out_features,1,1)\n",
    "layer_3 = nn.ConvTranspose2d(in_channels = out_features, out_channels=ngf * 8, kernel_size=(8,1), stride=(2,1), padding=0, bias=False)\n",
    "layer_4 = nn.ReLU(True)\n",
    "layer_5 = nn.ConvTranspose2d(in_channels=ngf * 8, out_channels=ngf * 4, kernel_size=(4,1), stride=(2,1), padding=(1,0), bias=False)\n",
    "layer_6 = nn.ReLU(True)\n",
    "layer_7 = nn.ConvTranspose2d(in_channels=ngf * 4, out_channels=ngf * 2, kernel_size=(4,1), stride=(2,1), padding=(1,0), bias=False)\n",
    "layer_8 = nn.ReLU(True)\n",
    "layer_9 = nn.ConvTranspose2d(in_channels=ngf * 2, out_channels=2, kernel_size=(4,1), stride=(2,1), padding=(1,0), bias=False)\n",
    "layer_10 = nn.ReLU()"
   ]
  },
  {
   "cell_type": "code",
   "execution_count": 23,
   "id": "3643acb7-cf24-4a8a-8242-383b2850d39c",
   "metadata": {},
   "outputs": [],
   "source": [
    "inp = torch.zeros(dimz)"
   ]
  },
  {
   "cell_type": "code",
   "execution_count": 24,
   "id": "9ebcbe05-2b0a-45fe-b82a-ed1247d89154",
   "metadata": {},
   "outputs": [],
   "source": [
    "x = layer_1(inp)"
   ]
  },
  {
   "cell_type": "code",
   "execution_count": 25,
   "id": "98c5521e-5acb-4cd8-84af-0ca2ca0f65d7",
   "metadata": {},
   "outputs": [
    {
     "data": {
      "text/plain": [
       "torch.Size([128])"
      ]
     },
     "execution_count": 25,
     "metadata": {},
     "output_type": "execute_result"
    }
   ],
   "source": [
    "x.shape"
   ]
  },
  {
   "cell_type": "code",
   "execution_count": 26,
   "id": "7faf75ee-0d21-476e-b4e0-04fc912147fc",
   "metadata": {},
   "outputs": [],
   "source": [
    "x = layer_2(x)"
   ]
  },
  {
   "cell_type": "code",
   "execution_count": 27,
   "id": "214c1857-1355-49d1-a786-27fda38ec4dc",
   "metadata": {},
   "outputs": [
    {
     "data": {
      "text/plain": [
       "torch.Size([1, 128, 1, 1])"
      ]
     },
     "execution_count": 27,
     "metadata": {},
     "output_type": "execute_result"
    }
   ],
   "source": [
    "x.shape"
   ]
  },
  {
   "cell_type": "code",
   "execution_count": 28,
   "id": "c4003fc4-e6a8-4420-9ef6-3f04c66148ca",
   "metadata": {},
   "outputs": [
    {
     "name": "stdout",
     "output_type": "stream",
     "text": [
      "torch.Size([1, 128, 8, 1])\n"
     ]
    }
   ],
   "source": [
    "x = layer_3(x)\n",
    "print(x.shape)"
   ]
  },
  {
   "cell_type": "code",
   "execution_count": 29,
   "id": "7ddb42bf-fb3e-4800-991b-6ea5edd4e8b0",
   "metadata": {},
   "outputs": [
    {
     "name": "stdout",
     "output_type": "stream",
     "text": [
      "torch.Size([1, 128, 8, 1])\n"
     ]
    }
   ],
   "source": [
    "x = layer_4(x)\n",
    "print(x.shape)"
   ]
  },
  {
   "cell_type": "code",
   "execution_count": 30,
   "id": "07e435bb-49e1-4830-87ca-d60736ec9872",
   "metadata": {},
   "outputs": [
    {
     "name": "stdout",
     "output_type": "stream",
     "text": [
      "torch.Size([1, 64, 16, 1])\n"
     ]
    }
   ],
   "source": [
    "x = layer_5(x)\n",
    "print(x.shape)"
   ]
  },
  {
   "cell_type": "code",
   "execution_count": 31,
   "id": "5914a201-d1f4-43a5-8cb6-ee2ed0d89019",
   "metadata": {},
   "outputs": [
    {
     "name": "stdout",
     "output_type": "stream",
     "text": [
      "torch.Size([1, 64, 16, 1])\n"
     ]
    }
   ],
   "source": [
    "x = layer_6(x)\n",
    "print(x.shape)"
   ]
  },
  {
   "cell_type": "code",
   "execution_count": 32,
   "id": "753376e5-4769-4e78-8303-74eca07e570b",
   "metadata": {},
   "outputs": [
    {
     "name": "stdout",
     "output_type": "stream",
     "text": [
      "torch.Size([1, 32, 32, 1])\n"
     ]
    }
   ],
   "source": [
    "x = layer_7(x)\n",
    "print(x.shape)"
   ]
  },
  {
   "cell_type": "code",
   "execution_count": 33,
   "id": "1f1ee33f-bd0e-44c5-afc1-4cf009cb37ee",
   "metadata": {},
   "outputs": [
    {
     "name": "stdout",
     "output_type": "stream",
     "text": [
      "torch.Size([1, 32, 32, 1])\n"
     ]
    }
   ],
   "source": [
    "x = layer_8(x)\n",
    "print(x.shape)"
   ]
  },
  {
   "cell_type": "code",
   "execution_count": 34,
   "id": "007d96ff-db0d-4be4-8baf-cd538cd5c5be",
   "metadata": {},
   "outputs": [
    {
     "name": "stdout",
     "output_type": "stream",
     "text": [
      "torch.Size([1, 2, 64, 1])\n"
     ]
    }
   ],
   "source": [
    "x = layer_9(x)\n",
    "print(x.shape)"
   ]
  },
  {
   "cell_type": "code",
   "execution_count": 35,
   "id": "33d656ce-3283-43bd-902c-9bffc359ecfb",
   "metadata": {},
   "outputs": [
    {
     "name": "stdout",
     "output_type": "stream",
     "text": [
      "torch.Size([1, 2, 64, 1])\n"
     ]
    }
   ],
   "source": [
    "x = layer_10(x)\n",
    "print(x.shape)"
   ]
  },
  {
   "cell_type": "code",
   "execution_count": null,
   "id": "aceb7bac-0031-4870-a689-5ef6eab1bd17",
   "metadata": {},
   "outputs": [],
   "source": []
  }
 ],
 "metadata": {
  "kernelspec": {
   "display_name": "Python 3 (ipykernel)",
   "language": "python",
   "name": "python3"
  },
  "language_info": {
   "codemirror_mode": {
    "name": "ipython",
    "version": 3
   },
   "file_extension": ".py",
   "mimetype": "text/x-python",
   "name": "python",
   "nbconvert_exporter": "python",
   "pygments_lexer": "ipython3",
   "version": "3.8.10"
  }
 },
 "nbformat": 4,
 "nbformat_minor": 5
}
